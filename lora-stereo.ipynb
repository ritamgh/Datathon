{
 "cells": [
  {
   "cell_type": "code",
   "execution_count": 6,
   "metadata": {},
   "outputs": [
    {
     "ename": "NameError",
     "evalue": "name 'intersentence' is not defined",
     "output_type": "error",
     "traceback": [
      "\u001b[0;31m---------------------------------------------------------------------------\u001b[0m",
      "\u001b[0;31mNameError\u001b[0m                                 Traceback (most recent call last)",
      "Cell \u001b[0;32mIn[6], line 5\u001b[0m\n\u001b[1;32m      2\u001b[0m \u001b[38;5;28;01mimport\u001b[39;00m\u001b[38;5;250m \u001b[39m\u001b[38;5;21;01mpandas\u001b[39;00m\u001b[38;5;250m \u001b[39m\u001b[38;5;28;01mas\u001b[39;00m\u001b[38;5;250m \u001b[39m\u001b[38;5;21;01mpd\u001b[39;00m\n\u001b[1;32m      4\u001b[0m \u001b[38;5;66;03m# Load StereoSet dataset\u001b[39;00m\n\u001b[0;32m----> 5\u001b[0m stereoset \u001b[38;5;241m=\u001b[39m load_dataset(\u001b[38;5;124m\"\u001b[39m\u001b[38;5;124mstereoset\u001b[39m\u001b[38;5;124m\"\u001b[39m, \u001b[43mintersentence\u001b[49m)\n\u001b[1;32m      7\u001b[0m \u001b[38;5;66;03m# Extract and examine intrasentence examples (these are better for training)\u001b[39;00m\n\u001b[1;32m      8\u001b[0m intrasentence \u001b[38;5;241m=\u001b[39m stereoset[\u001b[38;5;124m\"\u001b[39m\u001b[38;5;124mvalidation\u001b[39m\u001b[38;5;124m\"\u001b[39m][\u001b[38;5;124m\"\u001b[39m\u001b[38;5;124mintrasentence\u001b[39m\u001b[38;5;124m\"\u001b[39m]\n",
      "\u001b[0;31mNameError\u001b[0m: name 'intersentence' is not defined"
     ]
    }
   ],
   "source": [
    "from datasets import load_dataset\n",
    "import pandas as pd\n",
    "\n",
    "# Load StereoSet dataset\n",
    "stereoset = load_dataset(\"stereoset\")\n",
    "\n",
    "# Extract and examine intrasentence examples (these are better for training)\n",
    "intrasentence = stereoset[\"validation\"][\"intrasentence\"]\n",
    "\n",
    "# Filter for racial bias examples\n",
    "racial_examples = [\n",
    "    example for example in intrasentence \n",
    "    if example[\"bias_type\"] == \"race\"\n",
    "]\n",
    "\n",
    "# Convert to DataFrame for easier manipulation\n",
    "df = pd.DataFrame(racial_examples)\n",
    "\n",
    "print(f\"Found {len(racial_examples)} examples of racial bias\")\n",
    "print(df.head())"
   ]
  },
  {
   "cell_type": "code",
   "execution_count": null,
   "metadata": {},
   "outputs": [],
   "source": [
    "# Drop rows with missing values\n",
    "df.dropna(inplace=True)\n",
    "\n",
    "# Reset the index after dropping rows\n",
    "df.reset_index(drop=True, inplace=True)\n",
    "\n",
    "# Display the cleaned DataFrame\n",
    "print(df.head())"
   ]
  },
  {
   "cell_type": "code",
   "execution_count": null,
   "metadata": {},
   "outputs": [
    {
     "ename": "",
     "evalue": "",
     "output_type": "error",
     "traceback": [
      "\u001b[1;31mRunning cells with 'agenticLLM (Python 3.10.16)' requires the ipykernel package.\n",
      "\u001b[1;31mRun the following command to install 'ipykernel' into the Python environment. \n",
      "\u001b[1;31mCommand: 'conda install -n agenticLLM ipykernel --update-deps --force-reinstall'"
     ]
    }
   ],
   "source": [
    "# Function to create balanced instruction-response pairs\n",
    "def create_training_pair(example):\n",
    "    # Extract the context (sentence with [BLANK])\n",
    "    context = example[\"context\"]\n",
    "    \n",
    "    # Get the stereotype and anti-stereotype completions\n",
    "    stereotype_option = next(opt for opt in example[\"sentences\"] \n",
    "                            if opt[\"gold_label\"] == \"stereotype\")\n",
    "    antistereotype_option = next(opt for opt in example[\"sentences\"] \n",
    "                                if opt[\"gold_label\"] == \"anti-stereotype\")\n",
    "    \n",
    "    # Create a balanced prompt-response pair\n",
    "    prompt = f\"Complete this sentence in a non-stereotypical way: {context}\"\n",
    "    \n",
    "    # Use the anti-stereotype option as the target response\n",
    "    response = context.replace(\"[BLANK]\", antistereotype_option[\"sentence\"])\n",
    "    \n",
    "    return {\n",
    "        \"text\": f\"### Instruction: {prompt}\\n\\n### Response: {response}\"\n",
    "    }\n",
    "\n",
    "# Create training examples\n",
    "training_examples = [create_training_pair(example) for example in racial_examples]\n",
    "\n",
    "# Convert to Hugging Face dataset format\n",
    "from datasets import Dataset\n",
    "training_dataset = Dataset.from_pandas(pd.DataFrame(training_examples))"
   ]
  }
 ],
 "metadata": {
  "kernelspec": {
   "display_name": "agenticLLM",
   "language": "python",
   "name": "python3"
  },
  "language_info": {
   "codemirror_mode": {
    "name": "ipython",
    "version": 3
   },
   "file_extension": ".py",
   "mimetype": "text/x-python",
   "name": "python",
   "nbconvert_exporter": "python",
   "pygments_lexer": "ipython3",
   "version": "3.10.16"
  }
 },
 "nbformat": 4,
 "nbformat_minor": 2
}
